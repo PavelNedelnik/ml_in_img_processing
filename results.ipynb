{
 "cells": [
  {
   "cell_type": "code",
   "execution_count": null,
   "metadata": {},
   "outputs": [],
   "source": [
    "import numpy as np\n",
    "import torch\n",
    "import matplotlib.pyplot as plt\n",
    "from pathlib import Path\n",
    "from src.dataset import BraTS21\n",
    "from src.model import nnUNet"
   ]
  },
  {
   "cell_type": "code",
   "execution_count": null,
   "metadata": {},
   "outputs": [],
   "source": [
    "images = Path('.') / 'images'\n",
    "\n",
    "indices = np.arange(len(list(images.glob('BraTS2021*'))))\n",
    "df = BraTS21(images, indices=indices)"
   ]
  },
  {
   "cell_type": "code",
   "execution_count": null,
   "metadata": {},
   "outputs": [],
   "source": [
    "model = nnUNet()\n",
    "my_model = model.load_state_dict(torch.load(Path('.') / 'model_final_snapshot.pt', map_location=torch.device('cpu')))\n"
   ]
  },
  {
   "cell_type": "code",
   "execution_count": null,
   "metadata": {},
   "outputs": [],
   "source": [
    "idx = 0"
   ]
  },
  {
   "cell_type": "code",
   "execution_count": null,
   "metadata": {},
   "outputs": [],
   "source": [
    "out = model.forward(torch.unsqueeze(df[idx][0], dim=0))[0].detach().numpy()\n",
    "\n",
    "fig, axs = plt.subplots(1, 3)\n",
    "\n",
    "for i in range(3):\n",
    "    axs[i].imshow(out[0, i, 60, :, :])\n",
    "\n",
    "plt.tight_layout()\n",
    "fig.savefig('output.png', format='png', dpi=600)"
   ]
  },
  {
   "cell_type": "code",
   "execution_count": null,
   "metadata": {},
   "outputs": [],
   "source": [
    "inp = df[idx][0].detach().numpy()\n",
    "\n",
    "fig, axs = plt.subplots(1, 4)\n",
    "\n",
    "for i in range(4):\n",
    "    axs[i].imshow(inp[i, 60, :, :])\n",
    "\n",
    "plt.tight_layout()\n",
    "\n",
    "fig.savefig('input.png', format='png', dpi=600)"
   ]
  }
 ],
 "metadata": {
  "kernelspec": {
   "display_name": ".venv",
   "language": "python",
   "name": "python3"
  },
  "language_info": {
   "codemirror_mode": {
    "name": "ipython",
    "version": 3
   },
   "file_extension": ".py",
   "mimetype": "text/x-python",
   "name": "python",
   "nbconvert_exporter": "python",
   "pygments_lexer": "ipython3",
   "version": "3.10.7"
  },
  "orig_nbformat": 4
 },
 "nbformat": 4,
 "nbformat_minor": 2
}
