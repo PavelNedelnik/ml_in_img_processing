{
 "cells": [
  {
   "cell_type": "code",
   "execution_count": 1,
   "metadata": {},
   "outputs": [
    {
     "name": "stderr",
     "output_type": "stream",
     "text": [
      "c:\\Users\\pnede\\Desktop\\git projects\\ml_in_img_processing\\.venv\\lib\\site-packages\\tqdm\\auto.py:21: TqdmWarning: IProgress not found. Please update jupyter and ipywidgets. See https://ipywidgets.readthedocs.io/en/stable/user_install.html\n",
      "  from .autonotebook import tqdm as notebook_tqdm\n"
     ]
    }
   ],
   "source": [
    "import numpy as np\n",
    "import torch\n",
    "import torchio as tio\n",
    "from pathlib import Path\n",
    "from torch.utils.data import DataLoader, random_split, ConcatDataset\n",
    "from tqdm import tqdm\n",
    "from src.dataset import BraTS21\n",
    "from src.model import nnUNet\n",
    "from src.loss import DiceBCELoss, dice_loss\n",
    "\n",
    "images = Path('.') / 'images'\n",
    "\n",
    "\n",
    "transforms = tio.Compose({\n",
    "    tio.transforms.ZNormalization() : 1,\n",
    "    tio.transforms.RandomAffine(scales=(0.7, 1.4)) : 0.2,\n",
    "    tio.transforms.RandomAffine(degrees=(-30, 30)) : 0.2,\n",
    "    tio.transforms.RandomElasticDeformation() : 0.2,\n",
    "    tio.transforms.RandomGamma(log_gamma=(0.7, 1.5)) : 0.15\n",
    "})\n",
    "indices = np.arange(len(list(images.glob('BraTS2021*'))))\n",
    "#np.random.shuffle(indices)\n",
    "df = BraTS21(images, indices=indices, image_size=(64, 64, 64), x_transforms=transforms)"
   ]
  },
  {
   "cell_type": "code",
   "execution_count": 2,
   "metadata": {},
   "outputs": [],
   "source": [
    "def train_step(model, train_loader, optimizer, loss_fn):\n",
    "    avg_loss = 0.\n",
    "\n",
    "    for inputs, labels in tqdm(train_loader):\n",
    "        optimizer.zero_grad()\n",
    "\n",
    "        outputs = model(inputs)\n",
    "\n",
    "        loss = loss_fn(outputs, labels)\n",
    "        loss.backward()\n",
    "\n",
    "        optimizer.step()\n",
    "\n",
    "        # Gather data and report\n",
    "        avg_loss += loss.item()\n",
    "    avg_loss = avg_loss / len(train_loader)\n",
    "\n",
    "    return avg_loss"
   ]
  },
  {
   "cell_type": "code",
   "execution_count": 3,
   "metadata": {},
   "outputs": [],
   "source": [
    "def fit():\n",
    "    folds = list(random_split(df, [.05, .05, .05, .05, .05, .75]))[:-1]  # TODO\n",
    "    for f in range(len(folds)):\n",
    "        model = nnUNet()\n",
    "        loss_fn = DiceBCELoss()\n",
    "        scorer = dice_loss\n",
    "        optimizer = torch.optim.SGD(model.parameters(), lr=.01, momentum=.9, nesterov=True)\n",
    "        epochs = 3  # TODO\n",
    "        scheduler = torch.optim.lr_scheduler.PolynomialLR(optimizer, total_iters=epochs, power=.9)\n",
    "        batch_size = 2\n",
    "\n",
    "        train_folds = folds[:f]\n",
    "        if f + 1 < len(folds):\n",
    "            train_folds += folds[f + 1:]\n",
    "\n",
    "        train_loader = DataLoader(ConcatDataset(train_folds), batch_size=batch_size, shuffle=True)\n",
    "        valid_loader = DataLoader(folds[f], batch_size=batch_size, shuffle=True)\n",
    "        for epoch in range(epochs):\n",
    "            print('EPOCH {}:'.format(epoch + 1))\n",
    "\n",
    "            model.train(True)\n",
    "            avg_loss = train_step(model, train_loader, optimizer, loss_fn)\n",
    "            scheduler.step()\n",
    "\n",
    "            model.train(False)\n",
    "\n",
    "            running_vloss = [0, 0, 0]\n",
    "            for i, vdata in enumerate(valid_loader):\n",
    "                vinputs, vlabels = vdata\n",
    "                voutput = model(vinputs)[0]\n",
    "                for channel in range(3):\n",
    "                    running_vloss[channel] += scorer(voutput[:, channel, :, :, :], vlabels[channel])\n",
    "            running_vloss = [l / (i + 1) for l in running_vloss]\n",
    "                \n",
    "            print('LOSS train {} valid {}'.format(avg_loss, running_vloss))\n",
    "        torch.save(model.state_dict(), f'fold_{f}_model.pt')"
   ]
  },
  {
   "cell_type": "code",
   "execution_count": 4,
   "metadata": {},
   "outputs": [
    {
     "name": "stdout",
     "output_type": "stream",
     "text": [
      "EPOCH 1:\n"
     ]
    },
    {
     "name": "stderr",
     "output_type": "stream",
     "text": [
      "100%|██████████| 125/125 [04:32<00:00,  2.18s/it]\n"
     ]
    },
    {
     "name": "stdout",
     "output_type": "stream",
     "text": [
      "LOSS train 4.95522522354126 valid [tensor(0.8381, grad_fn=<DivBackward0>), tensor(0.8696, grad_fn=<DivBackward0>), tensor(0.9578, grad_fn=<DivBackward0>)]\n",
      "EPOCH 2:\n"
     ]
    },
    {
     "name": "stderr",
     "output_type": "stream",
     "text": [
      "100%|██████████| 125/125 [05:15<00:00,  2.53s/it]\n"
     ]
    },
    {
     "name": "stdout",
     "output_type": "stream",
     "text": [
      "LOSS train 4.58730189704895 valid [tensor(0.8392, grad_fn=<DivBackward0>), tensor(0.8728, grad_fn=<DivBackward0>), tensor(0.9565, grad_fn=<DivBackward0>)]\n",
      "EPOCH 3:\n"
     ]
    },
    {
     "name": "stderr",
     "output_type": "stream",
     "text": [
      "100%|██████████| 125/125 [05:15<00:00,  2.52s/it]\n"
     ]
    },
    {
     "name": "stdout",
     "output_type": "stream",
     "text": [
      "LOSS train 4.558255496978759 valid [tensor(0.8251, grad_fn=<DivBackward0>), tensor(0.8634, grad_fn=<DivBackward0>), tensor(0.9533, grad_fn=<DivBackward0>)]\n",
      "EPOCH 1:\n"
     ]
    },
    {
     "name": "stderr",
     "output_type": "stream",
     "text": [
      " 61%|██████    | 76/125 [03:05<01:57,  2.39s/it]"
     ]
    }
   ],
   "source": [
    "fit()"
   ]
  }
 ],
 "metadata": {
  "kernelspec": {
   "display_name": ".venv",
   "language": "python",
   "name": "python3"
  },
  "language_info": {
   "codemirror_mode": {
    "name": "ipython",
    "version": 3
   },
   "file_extension": ".py",
   "mimetype": "text/x-python",
   "name": "python",
   "nbconvert_exporter": "python",
   "pygments_lexer": "ipython3",
   "version": "3.10.7"
  },
  "orig_nbformat": 4
 },
 "nbformat": 4,
 "nbformat_minor": 2
}
